{
 "cells": [
  {
   "cell_type": "code",
   "execution_count": 1,
   "id": "b958a2bf-3fac-433a-908c-a65093dc673e",
   "metadata": {},
   "outputs": [],
   "source": [
    "# Cell 1: Imports\n",
    "import os\n",
    "import re\n",
    "import time\n",
    "import pandas as pd\n",
    "import logging\n",
    "from selenium import webdriver\n",
    "from selenium.webdriver.chrome.options import Options\n",
    "from selenium.webdriver.chrome.service import Service\n",
    "from bs4 import BeautifulSoup\n",
    "\n",
    "# Set your own path or default fallback\n",
    "TEMP_DIR = \"./tmp_data\"\n"
   ]
  },
  {
   "cell_type": "code",
   "execution_count": null,
   "id": "8138fda9-03b0-450f-a55a-f4edb742b942",
   "metadata": {},
   "outputs": [],
   "source": []
  },
  {
   "cell_type": "code",
   "execution_count": null,
   "id": "34973472-35b9-4ebb-8ce9-1ee9eb794363",
   "metadata": {},
   "outputs": [],
   "source": [
    "pip install selenium webdriver-manager"
   ]
  },
  {
   "cell_type": "code",
   "execution_count": null,
   "id": "1bf7c1bd-95e4-4778-8362-d7899752de41",
   "metadata": {},
   "outputs": [],
   "source": []
  },
  {
   "cell_type": "code",
   "execution_count": 2,
   "id": "aeed03c6-28ec-40cd-ba3c-9a36ad6c3027",
   "metadata": {},
   "outputs": [],
   "source": [
    "# Cell 2: Website settings and logger configuration\n",
    "WEBSITE_NAME = \"boston_gov\"\n",
    "logger = logging.getLogger(__name__)\n",
    "logging.basicConfig(level=logging.INFO)\n"
   ]
  },
  {
   "cell_type": "code",
   "execution_count": null,
   "id": "1a565e4d-1e7d-422f-a6a3-eac242749c7e",
   "metadata": {},
   "outputs": [],
   "source": []
  },
  {
   "cell_type": "code",
   "execution_count": 7,
   "id": "303de923-538f-4b4a-9c8f-b712856aa812",
   "metadata": {},
   "outputs": [],
   "source": [
    "from selenium import webdriver\n",
    "from selenium.webdriver.chrome.service import Service\n",
    "from selenium.webdriver.chrome.options import Options\n",
    "from webdriver_manager.chrome import ChromeDriverManager\n",
    "\n",
    "def setup_chromium_driver():\n",
    "    options = Options()\n",
    "    options.add_argument(\"--headless\")\n",
    "    options.add_argument(\"--no-sandbox\")\n",
    "    options.add_argument(\"--disable-dev-shm-usage\")\n",
    "    options.add_argument(\"--disable-gpu\")\n",
    "    options.add_argument(\"--disable-software-rasterizer\")\n",
    "    options.add_argument(\"--disable-extensions\")\n",
    "    \n",
    "    # DO NOT manually specify binary paths unless absolutely necessary\n",
    "    service = Service(ChromeDriverManager().install())\n",
    "    return webdriver.Chrome(service=service, options=options)\n"
   ]
  },
  {
   "cell_type": "code",
   "execution_count": null,
   "id": "21880121-bc6b-4a66-bfb9-e597bf4f3be5",
   "metadata": {},
   "outputs": [],
   "source": []
  },
  {
   "cell_type": "code",
   "execution_count": null,
   "id": "4804bc37-902a-496c-b721-fb583694ca4e",
   "metadata": {},
   "outputs": [],
   "source": []
  },
  {
   "cell_type": "code",
   "execution_count": 9,
   "id": "2157874d-ad8e-4912-9970-8d5531f27d62",
   "metadata": {},
   "outputs": [
    {
     "name": "stderr",
     "output_type": "stream",
     "text": [
      "INFO:WDM:====== WebDriver manager ======\n",
      "INFO:WDM:Get LATEST chromedriver version for google-chrome\n",
      "INFO:WDM:Get LATEST chromedriver version for google-chrome\n",
      "INFO:WDM:There is no [mac64] chromedriver \"135.0.7049.84\" for browser google-chrome \"135.0.7049\" in cache\n",
      "INFO:WDM:Get LATEST chromedriver version for google-chrome\n",
      "INFO:WDM:WebDriver version 135.0.7049.84 selected\n",
      "INFO:WDM:Modern chrome version https://storage.googleapis.com/chrome-for-testing-public/135.0.7049.84/mac-arm64/chromedriver-mac-arm64.zip\n",
      "INFO:WDM:About to download new driver from https://storage.googleapis.com/chrome-for-testing-public/135.0.7049.84/mac-arm64/chromedriver-mac-arm64.zip\n",
      "INFO:WDM:Driver downloading response is 200\n",
      "INFO:WDM:Get LATEST chromedriver version for google-chrome\n",
      "INFO:WDM:Driver has been saved in cache [/Users/ramkumarrp/.wdm/drivers/chromedriver/mac64/135.0.7049.84]\n",
      "INFO:__main__:Scraping page 1: https://www.boston.gov/events?page=0\n",
      "INFO:__main__:Scraping page 2: https://www.boston.gov/events?page=1\n",
      "INFO:__main__:Scraping page 3: https://www.boston.gov/events?page=2\n"
     ]
    },
    {
     "data": {
      "text/html": [
       "<div>\n",
       "<style scoped>\n",
       "    .dataframe tbody tr th:only-of-type {\n",
       "        vertical-align: middle;\n",
       "    }\n",
       "\n",
       "    .dataframe tbody tr th {\n",
       "        vertical-align: top;\n",
       "    }\n",
       "\n",
       "    .dataframe thead th {\n",
       "        text-align: right;\n",
       "    }\n",
       "</style>\n",
       "<table border=\"1\" class=\"dataframe\">\n",
       "  <thead>\n",
       "    <tr style=\"text-align: right;\">\n",
       "      <th></th>\n",
       "      <th>Title</th>\n",
       "      <th>Event Details Link</th>\n",
       "    </tr>\n",
       "  </thead>\n",
       "  <tbody>\n",
       "    <tr>\n",
       "      <th>0</th>\n",
       "      <td>Age Strong Yoga</td>\n",
       "      <td>https://www.boston.gov/node/16105821</td>\n",
       "    </tr>\n",
       "    <tr>\n",
       "      <th>1</th>\n",
       "      <td>West Roxbury Liaison Office Hours</td>\n",
       "      <td>https://www.boston.gov/node/16037156</td>\n",
       "    </tr>\n",
       "    <tr>\n",
       "      <th>2</th>\n",
       "      <td>Allston-Brighton Liaison Office Hours</td>\n",
       "      <td>https://www.boston.gov/node/15961906</td>\n",
       "    </tr>\n",
       "    <tr>\n",
       "      <th>3</th>\n",
       "      <td>CDL License Workshop (in collaboration with Em...</td>\n",
       "      <td>https://www.boston.gov/node/16362966</td>\n",
       "    </tr>\n",
       "    <tr>\n",
       "      <th>4</th>\n",
       "      <td>Charlestown Liaison Office Hours</td>\n",
       "      <td>https://www.boston.gov/node/15961761</td>\n",
       "    </tr>\n",
       "  </tbody>\n",
       "</table>\n",
       "</div>"
      ],
      "text/plain": [
       "                                               Title  \\\n",
       "0                                    Age Strong Yoga   \n",
       "1                  West Roxbury Liaison Office Hours   \n",
       "2              Allston-Brighton Liaison Office Hours   \n",
       "3  CDL License Workshop (in collaboration with Em...   \n",
       "4                   Charlestown Liaison Office Hours   \n",
       "\n",
       "                     Event Details Link  \n",
       "0  https://www.boston.gov/node/16105821  \n",
       "1  https://www.boston.gov/node/16037156  \n",
       "2  https://www.boston.gov/node/15961906  \n",
       "3  https://www.boston.gov/node/16362966  \n",
       "4  https://www.boston.gov/node/15961761  "
      ]
     },
     "execution_count": 9,
     "metadata": {},
     "output_type": "execute_result"
    }
   ],
   "source": [
    "# Cell 4: Scrape listing pages\n",
    "BASE_URL = \"https://www.boston.gov/events?page=\"\n",
    "event_list = []\n",
    "\n",
    "driver = setup_chromium_driver()\n",
    "for page in range(3):\n",
    "    url = BASE_URL + str(page)\n",
    "    logger.info(f\"Scraping page {page + 1}: {url}\")\n",
    "    driver.get(url)\n",
    "    time.sleep(5)\n",
    "    soup = BeautifulSoup(driver.page_source, \"html.parser\")\n",
    "    articles = soup.find_all(\"article\", class_=\"calendar-listing-wrapper\")\n",
    "    \n",
    "    for article in articles:\n",
    "        title_tag = article.find(\"div\", class_=\"title\")\n",
    "        title = title_tag.text.strip() if title_tag else \"No Title\"\n",
    "        details_link_tag = article.find(\"a\", class_=\"button\")\n",
    "        details_link = \"https://www.boston.gov\" + details_link_tag[\"href\"] if details_link_tag and details_link_tag.has_attr(\"href\") else \"No Link\"\n",
    "        event_list.append({\"Title\": title, \"Event Details Link\": details_link})\n",
    "        \n",
    "    time.sleep(3)\n",
    "driver.quit()\n",
    "\n",
    "df_events = pd.DataFrame(event_list)\n",
    "df_events.head()\n"
   ]
  },
  {
   "cell_type": "code",
   "execution_count": 11,
   "id": "daadbe6e-c190-401d-aa9a-beff0683c34f",
   "metadata": {},
   "outputs": [
    {
     "data": {
      "text/html": [
       "<div>\n",
       "<style scoped>\n",
       "    .dataframe tbody tr th:only-of-type {\n",
       "        vertical-align: middle;\n",
       "    }\n",
       "\n",
       "    .dataframe tbody tr th {\n",
       "        vertical-align: top;\n",
       "    }\n",
       "\n",
       "    .dataframe thead th {\n",
       "        text-align: right;\n",
       "    }\n",
       "</style>\n",
       "<table border=\"1\" class=\"dataframe\">\n",
       "  <thead>\n",
       "    <tr style=\"text-align: right;\">\n",
       "      <th></th>\n",
       "      <th>Title</th>\n",
       "      <th>Event Details Link</th>\n",
       "    </tr>\n",
       "  </thead>\n",
       "  <tbody>\n",
       "    <tr>\n",
       "      <th>0</th>\n",
       "      <td>Age Strong Yoga</td>\n",
       "      <td>https://www.boston.gov/node/16105821</td>\n",
       "    </tr>\n",
       "    <tr>\n",
       "      <th>1</th>\n",
       "      <td>West Roxbury Liaison Office Hours</td>\n",
       "      <td>https://www.boston.gov/node/16037156</td>\n",
       "    </tr>\n",
       "    <tr>\n",
       "      <th>2</th>\n",
       "      <td>Allston-Brighton Liaison Office Hours</td>\n",
       "      <td>https://www.boston.gov/node/15961906</td>\n",
       "    </tr>\n",
       "    <tr>\n",
       "      <th>3</th>\n",
       "      <td>CDL License Workshop (in collaboration with Em...</td>\n",
       "      <td>https://www.boston.gov/node/16362966</td>\n",
       "    </tr>\n",
       "    <tr>\n",
       "      <th>4</th>\n",
       "      <td>Charlestown Liaison Office Hours</td>\n",
       "      <td>https://www.boston.gov/node/15961761</td>\n",
       "    </tr>\n",
       "    <tr>\n",
       "      <th>...</th>\n",
       "      <td>...</td>\n",
       "      <td>...</td>\n",
       "    </tr>\n",
       "    <tr>\n",
       "      <th>85</th>\n",
       "      <td>Climate Action Plan: Public Workshop</td>\n",
       "      <td>https://www.boston.govhttps://forms.gle/QKfSjE...</td>\n",
       "    </tr>\n",
       "    <tr>\n",
       "      <th>86</th>\n",
       "      <td>How to Improve Your Credit and Increase Your S...</td>\n",
       "      <td>https://www.boston.govhttps://www.zoomgov.com/...</td>\n",
       "    </tr>\n",
       "    <tr>\n",
       "      <th>87</th>\n",
       "      <td>Age Strong Senior Sound Bath</td>\n",
       "      <td>https://www.boston.gov/node/16361011</td>\n",
       "    </tr>\n",
       "    <tr>\n",
       "      <th>88</th>\n",
       "      <td>Age Strong Bowling League</td>\n",
       "      <td>https://www.boston.gov/node/16363141</td>\n",
       "    </tr>\n",
       "    <tr>\n",
       "      <th>89</th>\n",
       "      <td>Columbia Road Office Hours</td>\n",
       "      <td>https://www.boston.gov/node/16273371</td>\n",
       "    </tr>\n",
       "  </tbody>\n",
       "</table>\n",
       "<p>90 rows × 2 columns</p>\n",
       "</div>"
      ],
      "text/plain": [
       "                                                Title  \\\n",
       "0                                     Age Strong Yoga   \n",
       "1                   West Roxbury Liaison Office Hours   \n",
       "2               Allston-Brighton Liaison Office Hours   \n",
       "3   CDL License Workshop (in collaboration with Em...   \n",
       "4                    Charlestown Liaison Office Hours   \n",
       "..                                                ...   \n",
       "85               Climate Action Plan: Public Workshop   \n",
       "86  How to Improve Your Credit and Increase Your S...   \n",
       "87                       Age Strong Senior Sound Bath   \n",
       "88                          Age Strong Bowling League   \n",
       "89                         Columbia Road Office Hours   \n",
       "\n",
       "                                   Event Details Link  \n",
       "0                https://www.boston.gov/node/16105821  \n",
       "1                https://www.boston.gov/node/16037156  \n",
       "2                https://www.boston.gov/node/15961906  \n",
       "3                https://www.boston.gov/node/16362966  \n",
       "4                https://www.boston.gov/node/15961761  \n",
       "..                                                ...  \n",
       "85  https://www.boston.govhttps://forms.gle/QKfSjE...  \n",
       "86  https://www.boston.govhttps://www.zoomgov.com/...  \n",
       "87               https://www.boston.gov/node/16361011  \n",
       "88               https://www.boston.gov/node/16363141  \n",
       "89               https://www.boston.gov/node/16273371  \n",
       "\n",
       "[90 rows x 2 columns]"
      ]
     },
     "execution_count": 11,
     "metadata": {},
     "output_type": "execute_result"
    }
   ],
   "source": [
    "df_events"
   ]
  },
  {
   "cell_type": "code",
   "execution_count": null,
   "id": "ab02d177-7926-447e-8044-c2e0ad013d80",
   "metadata": {},
   "outputs": [],
   "source": []
  },
  {
   "cell_type": "code",
   "execution_count": 17,
   "id": "86277d97-e790-41c6-a3f9-472fb90b4986",
   "metadata": {},
   "outputs": [],
   "source": [
    "import snowflake.connector\n",
    "import logging"
   ]
  },
  {
   "cell_type": "code",
   "execution_count": null,
   "id": "8dfe1ad5-23ea-4e0a-91ce-444240d646f0",
   "metadata": {},
   "outputs": [],
   "source": []
  },
  {
   "cell_type": "code",
   "execution_count": 53,
   "id": "17cadfe8-3695-4e6d-bf21-c2ae65d3e00a",
   "metadata": {},
   "outputs": [],
   "source": [
    "# Snowflake Settings for metrics\n",
    "SNOWFLAKE_ACCOUNT_METRICS='ggtheca-odb63172'\n",
    "SNOWFLAKE_USER_METRICS='EVENTSLENSSF'\n",
    "SNOWFLAKE_PASSWORD_METRICS='Eventlenssnowflake123'\n",
    "SNOWFLAKE_DATABASE_METRICS='eventslens'\n",
    "SNOWFLAKE_SCHEMA_METRICS='edw'\n",
    "SNOWFLAKE_WAREHOUSE_METRICS='EVENTSLENSMETRIC'\n",
    "SNOWFLAKE_ROLE_METRICS='EVENTLENSMETRICS'\n"
   ]
  },
  {
   "cell_type": "code",
   "execution_count": null,
   "id": "3cd34f70-a11c-4d8c-a915-a06500435f03",
   "metadata": {},
   "outputs": [],
   "source": []
  },
  {
   "cell_type": "code",
   "execution_count": 55,
   "id": "adac5963-c4d2-4589-bf27-7b63b7efd22b",
   "metadata": {},
   "outputs": [],
   "source": [
    "def get_snowflake_connection_metrics():\n",
    "    try:\n",
    "        connection = snowflake.connector.connect(\n",
    "            user=SNOWFLAKE_USER_METRICS,\n",
    "            password=SNOWFLAKE_PASSWORD_METRICS,\n",
    "            account=SNOWFLAKE_ACCOUNT_METRICS,\n",
    "            warehouse=SNOWFLAKE_WAREHOUSE_METRICS,\n",
    "            database=SNOWFLAKE_DATABASE_METRICS,\n",
    "            schema=\"EDW\",\n",
    "            role=SNOWFLAKE_ROLE_METRICS,\n",
    "            client_session_keep_alive=True\n",
    "        )\n",
    "        return connection\n",
    "    except Exception as e:\n",
    "        print(f\"Error connecting to Snowflake Metrics table: {str(e)}\")\n",
    "        raise"
   ]
  },
  {
   "cell_type": "code",
   "execution_count": 75,
   "id": "7d483c3f-0836-4080-981e-ebb4a229d6f5",
   "metadata": {},
   "outputs": [
    {
     "data": {
      "text/plain": [
       "<snowflake.connector.cursor.SnowflakeCursor at 0x30dac2090>"
      ]
     },
     "execution_count": 75,
     "metadata": {},
     "output_type": "execute_result"
    }
   ],
   "source": [
    "conn = get_snowflake_connection_metrics()\n",
    "cursor = conn.cursor()\n",
    "# Explicitly set the database and schema if not already default\n",
    "cursor.execute(\"USE DATABASE EVENTSLENS\")\n",
    "cursor.execute(\"USE SCHEMA EDW\")"
   ]
  },
  {
   "cell_type": "code",
   "execution_count": null,
   "id": "8acc8b69-5530-4334-947c-b64930969bf6",
   "metadata": {},
   "outputs": [],
   "source": []
  },
  {
   "cell_type": "code",
   "execution_count": null,
   "id": "7e76e0e3-8f62-4509-9dd8-5ea1260e2d4f",
   "metadata": {},
   "outputs": [],
   "source": []
  },
  {
   "cell_type": "code",
   "execution_count": null,
   "id": "4f372485-e981-47d5-aff3-5e7f45cc6f9c",
   "metadata": {},
   "outputs": [],
   "source": []
  },
  {
   "cell_type": "code",
   "execution_count": null,
   "id": "3edf9bb2-61be-4292-8705-03df6e079cf8",
   "metadata": {},
   "outputs": [],
   "source": []
  },
  {
   "cell_type": "code",
   "execution_count": null,
   "id": "91460c76-92e3-4182-95dd-d16650fd4501",
   "metadata": {},
   "outputs": [],
   "source": []
  },
  {
   "cell_type": "code",
   "execution_count": null,
   "id": "12f8e659-97d9-4dbe-918d-09fe5ecf3769",
   "metadata": {},
   "outputs": [],
   "source": []
  },
  {
   "cell_type": "code",
   "execution_count": null,
   "id": "5191d693-0fde-4dd8-8818-40ec56bd0e7d",
   "metadata": {},
   "outputs": [],
   "source": []
  },
  {
   "cell_type": "code",
   "execution_count": null,
   "id": "5937c5f1-11e7-41f8-8d9c-117526c2f583",
   "metadata": {},
   "outputs": [],
   "source": []
  },
  {
   "cell_type": "code",
   "execution_count": null,
   "id": "40f1d465-6d52-4ba6-8c88-80e359d05fe1",
   "metadata": {},
   "outputs": [],
   "source": []
  },
  {
   "cell_type": "code",
   "execution_count": null,
   "id": "25c9da2c-4b9c-40dd-8114-b7b6cc2b4d71",
   "metadata": {},
   "outputs": [],
   "source": []
  },
  {
   "cell_type": "code",
   "execution_count": null,
   "id": "1fc50be9-9c08-49be-8f14-04a5ee539060",
   "metadata": {},
   "outputs": [],
   "source": []
  },
  {
   "cell_type": "code",
   "execution_count": null,
   "id": "c3c89823-0d0b-4158-936b-30573ec0548b",
   "metadata": {},
   "outputs": [],
   "source": []
  },
  {
   "cell_type": "code",
   "execution_count": null,
   "id": "c36ce5c4-56aa-402e-8ee7-f62d19bfefb1",
   "metadata": {},
   "outputs": [],
   "source": []
  },
  {
   "cell_type": "code",
   "execution_count": 47,
   "id": "ec6c465d-6822-4b46-af7b-25593c341bec",
   "metadata": {},
   "outputs": [
    {
     "data": {
      "text/plain": [
       "<snowflake.connector.connection.SnowflakeConnection at 0x309d11400>"
      ]
     },
     "execution_count": 47,
     "metadata": {},
     "output_type": "execute_result"
    }
   ],
   "source": [
    "get_snowflake_connection_metrics()"
   ]
  },
  {
   "cell_type": "code",
   "execution_count": null,
   "id": "bce66840-a497-4f39-9de9-66be73e05acf",
   "metadata": {},
   "outputs": [],
   "source": []
  },
  {
   "cell_type": "code",
   "execution_count": null,
   "id": "18806405-0936-425b-9bf8-35dc9e733225",
   "metadata": {},
   "outputs": [],
   "source": []
  },
  {
   "cell_type": "code",
   "execution_count": null,
   "id": "20bf026a-2667-488e-90a7-5b7267632ae5",
   "metadata": {},
   "outputs": [],
   "source": []
  },
  {
   "cell_type": "code",
   "execution_count": null,
   "id": "b574485e-6444-4575-b12e-af65e5acacb0",
   "metadata": {},
   "outputs": [],
   "source": []
  },
  {
   "cell_type": "code",
   "execution_count": null,
   "id": "f8e6c548-e99c-47fc-b89a-7d237abf4a55",
   "metadata": {},
   "outputs": [],
   "source": []
  },
  {
   "cell_type": "code",
   "execution_count": null,
   "id": "8d5041d4-1702-4cf0-8261-7ebf8baf76f6",
   "metadata": {},
   "outputs": [],
   "source": []
  },
  {
   "cell_type": "code",
   "execution_count": null,
   "id": "400387c5-3774-4919-aaf5-2bbb63432a79",
   "metadata": {},
   "outputs": [],
   "source": []
  }
 ],
 "metadata": {
  "kernelspec": {
   "display_name": "Python 3 (ipykernel)",
   "language": "python",
   "name": "python3"
  },
  "language_info": {
   "codemirror_mode": {
    "name": "ipython",
    "version": 3
   },
   "file_extension": ".py",
   "mimetype": "text/x-python",
   "name": "python",
   "nbconvert_exporter": "python",
   "pygments_lexer": "ipython3",
   "version": "3.12.4"
  }
 },
 "nbformat": 4,
 "nbformat_minor": 5
}
