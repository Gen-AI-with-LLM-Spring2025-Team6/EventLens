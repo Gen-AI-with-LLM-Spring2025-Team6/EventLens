{
 "cells": [
  {
   "cell_type": "code",
   "execution_count": 2,
   "id": "bbc8e1ff-e8ab-482e-b1b9-1a4000e970d7",
   "metadata": {},
   "outputs": [],
   "source": [
    "import snowflake.connector\n",
    "import requests\n",
    "import base64\n"
   ]
  },
  {
   "cell_type": "code",
   "execution_count": 14,
   "id": "cb97307c-c237-4ecc-a7ce-0bc6786399e9",
   "metadata": {},
   "outputs": [],
   "source": [
    "# Snowflake credentials\n",
    "SNOWFLAKE_ACCOUNT=''\n",
    "SNOWFLAKE_USER=''\n",
    "SNOWFLAKE_PASSWORD=''\n",
    "SNOWFLAKE_DATABASE=''\n",
    "SNOWFLAKE_SCHEMA=''\n",
    "SNOWFLAKE_WAREHOUSE=''\n",
    "SNOWFLAKE_ROLE=''\n",
    "SNOWFLAKE_TABLE=''"
   ]
  },
  {
   "cell_type": "code",
   "execution_count": null,
   "id": "93939c7e-06a5-4341-9e61-8554d28ba1d5",
   "metadata": {},
   "outputs": [],
   "source": []
  },
  {
   "cell_type": "code",
   "execution_count": null,
   "id": "14fd64ca-6266-4afd-ba10-8a6fd5c97dc1",
   "metadata": {},
   "outputs": [],
   "source": []
  },
  {
   "cell_type": "code",
   "execution_count": 24,
   "id": "24f29b8d-ee7c-4c23-a91e-66153bee922d",
   "metadata": {},
   "outputs": [],
   "source": [
    "# Connect to Snowflake\n",
    "conn = snowflake.connector.connect(\n",
    "    user=SNOWFLAKE_USER,\n",
    "    password=SNOWFLAKE_PASSWORD,\n",
    "    account=SNOWFLAKE_ACCOUNT,\n",
    "    warehouse=SNOWFLAKE_WAREHOUSE,\n",
    "    database=SNOWFLAKE_DATABASE,\n",
    "    schema=SNOWFLAKE_SCHEMA\n",
    ")\n",
    "\n",
    "# Fetch records from the table\n",
    "cursor = conn.cursor()\n",
    "cursor.execute(f\"SELECT IMAGE_URL FROM {SNOWFLAKE_TABLE}\")\n",
    "records = cursor.fetchall()"
   ]
  },
  {
   "cell_type": "code",
   "execution_count": 45,
   "id": "dfb5e53b-7497-4401-88b8-2142516ed543",
   "metadata": {},
   "outputs": [],
   "source": [
    "url = records[0][0]"
   ]
  },
  {
   "cell_type": "code",
   "execution_count": null,
   "id": "717ecc58-a275-4f70-b1c1-6c339b43415a",
   "metadata": {},
   "outputs": [],
   "source": []
  },
  {
   "cell_type": "code",
   "execution_count": 33,
   "id": "85f5c560-ebac-4434-b765-89b43215ea77",
   "metadata": {},
   "outputs": [],
   "source": [
    "response = requests.get(records[0][0])\n",
    "if response.status_code == 200:\n",
    "    base64_image = base64.b64encode(response.content).decode('utf-8')"
   ]
  },
  {
   "cell_type": "code",
   "execution_count": 47,
   "id": "46371b48-baf8-4cc4-b771-349163e69422",
   "metadata": {},
   "outputs": [
    {
     "name": "stdout",
     "output_type": "stream",
     "text": [
      "Compressed Base64 Image: /9j/4AAQSkZJRgABAQAAAQABAAD/2wBDABALDA4MChAODQ4SERATGCgaGBYWGDEjJR0oOjM9PDkzODdASFxOQERXRTc4UG1RV19i...\n"
     ]
    }
   ],
   "source": [
    "import requests\n",
    "import base64\n",
    "from PIL import Image\n",
    "from io import BytesIO\n",
    "\n",
    "def download_compress_encode(url, quality=50):\n",
    "    \"\"\"Download an image, compress it, and convert to Base64.\"\"\"\n",
    "    response = requests.get(url)\n",
    "    \n",
    "    if response.status_code == 200:\n",
    "        # Open image from response content\n",
    "        img = Image.open(BytesIO(response.content))\n",
    "        \n",
    "        # Convert to RGB to avoid issues with PNG mode\n",
    "        img = img.convert(\"RGB\")\n",
    "\n",
    "        # Compress the image\n",
    "        buffer = BytesIO()\n",
    "        img.save(buffer, format=\"JPEG\", quality=quality) \n",
    "        \n",
    "        # Encode to Base64\n",
    "        base64_encoded = base64.b64encode(buffer.getvalue()).decode(\"utf-8\")\n",
    "        return base64_encoded\n",
    "    else:\n",
    "        raise Exception(f\"Failed to download image. Status Code: {response.status_code}\")\n",
    "\n",
    "\n",
    "image_url = records[0][0] \n",
    "base64_image = download_compress_encode(image_url, quality=50)\n",
    "\n",
    "print(\"Compressed Base64 Image:\", base64_image[:100] + \"...\") \n"
   ]
  },
  {
   "cell_type": "code",
   "execution_count": null,
   "id": "f8ce8a4f-0d0c-4e9f-950b-4322491b7373",
   "metadata": {},
   "outputs": [],
   "source": []
  },
  {
   "cell_type": "code",
   "execution_count": null,
   "id": "31f94a5a-bf18-46e7-b382-84c2e354affc",
   "metadata": {},
   "outputs": [],
   "source": [
    "SELECT SNOWFLAKE.CORTEX.COMPLETE('mistral-large', 'You will be provided with an image in base64 format which is related to an event. Describe the image concisely, focusing only on event-specific details. If the image includes information such as the event name, timing, date, or price, extract and provide those details as well. Image URL : ');\n"
   ]
  },
  {
   "cell_type": "code",
   "execution_count": 49,
   "id": "18aa947c-4363-4796-a3ba-3f163622e62d",
   "metadata": {},
   "outputs": [
    {
     "ename": "ProgrammingError",
     "evalue": "100351 (P0000): Request failed for external function COMPLETE$V2 with remote service error: 400 '\"max tokens of 220000 exceeded\"\n'; requests batch-id: 01bab2de-0004-ab89-0003-d563001aa98e:1:1:0:0; request batch size: 1 rows; request retries: 0; response time (last retry): 2m40.11921s",
     "output_type": "error",
     "traceback": [
      "\u001b[0;31m---------------------------------------------------------------------------\u001b[0m",
      "\u001b[0;31mProgrammingError\u001b[0m                          Traceback (most recent call last)",
      "Cell \u001b[0;32mIn[49], line 18\u001b[0m\n\u001b[1;32m     13\u001b[0m query \u001b[38;5;241m=\u001b[39m \u001b[38;5;124m\"\"\"\u001b[39m\n\u001b[1;32m     14\u001b[0m \u001b[38;5;124mSELECT SNOWFLAKE.CORTEX.COMPLETE(\u001b[39m\u001b[38;5;124m'\u001b[39m\u001b[38;5;124mjamba-1.5-large\u001b[39m\u001b[38;5;124m'\u001b[39m\u001b[38;5;124m, PARSE_JSON(\u001b[39m\u001b[38;5;132;01m%s\u001b[39;00m\u001b[38;5;124m))\u001b[39m\n\u001b[1;32m     15\u001b[0m \u001b[38;5;124m\"\"\"\u001b[39m\n\u001b[1;32m     17\u001b[0m \u001b[38;5;66;03m# Execute query safely with parameters\u001b[39;00m\n\u001b[0;32m---> 18\u001b[0m cursor\u001b[38;5;241m.\u001b[39mexecute(query, (json\u001b[38;5;241m.\u001b[39mdumps({\u001b[38;5;124m\"\u001b[39m\u001b[38;5;124mprompt\u001b[39m\u001b[38;5;124m\"\u001b[39m: prompt}),))\n",
      "File \u001b[0;32m/opt/anaconda3/lib/python3.12/site-packages/snowflake/connector/cursor.py:1103\u001b[0m, in \u001b[0;36mSnowflakeCursor.execute\u001b[0;34m(self, command, params, _bind_stage, timeout, _exec_async, _no_retry, _do_reset, _put_callback, _put_azure_callback, _put_callback_output_stream, _get_callback, _get_azure_callback, _get_callback_output_stream, _show_progress_bar, _statement_params, _is_internal, _describe_only, _no_results, _is_put_get, _raise_put_get_error, _force_put_overwrite, _skip_upload_on_content_match, file_stream, num_statements, _force_qmark_paramstyle, _dataframe_ast)\u001b[0m\n\u001b[1;32m   1099\u001b[0m     is_integrity_error \u001b[38;5;241m=\u001b[39m (\n\u001b[1;32m   1100\u001b[0m         code \u001b[38;5;241m==\u001b[39m \u001b[38;5;124m\"\u001b[39m\u001b[38;5;124m100072\u001b[39m\u001b[38;5;124m\"\u001b[39m\n\u001b[1;32m   1101\u001b[0m     )  \u001b[38;5;66;03m# NULL result in a non-nullable column\u001b[39;00m\n\u001b[1;32m   1102\u001b[0m     error_class \u001b[38;5;241m=\u001b[39m IntegrityError \u001b[38;5;28;01mif\u001b[39;00m is_integrity_error \u001b[38;5;28;01melse\u001b[39;00m ProgrammingError\n\u001b[0;32m-> 1103\u001b[0m     Error\u001b[38;5;241m.\u001b[39merrorhandler_wrapper(\u001b[38;5;28mself\u001b[39m\u001b[38;5;241m.\u001b[39mconnection, \u001b[38;5;28mself\u001b[39m, error_class, errvalue)\n\u001b[1;32m   1104\u001b[0m \u001b[38;5;28;01mreturn\u001b[39;00m \u001b[38;5;28mself\u001b[39m\n",
      "File \u001b[0;32m/opt/anaconda3/lib/python3.12/site-packages/snowflake/connector/errors.py:283\u001b[0m, in \u001b[0;36mError.errorhandler_wrapper\u001b[0;34m(connection, cursor, error_class, error_value)\u001b[0m\n\u001b[1;32m    260\u001b[0m \u001b[38;5;129m@staticmethod\u001b[39m\n\u001b[1;32m    261\u001b[0m \u001b[38;5;28;01mdef\u001b[39;00m \u001b[38;5;21merrorhandler_wrapper\u001b[39m(\n\u001b[1;32m    262\u001b[0m     connection: SnowflakeConnection \u001b[38;5;241m|\u001b[39m \u001b[38;5;28;01mNone\u001b[39;00m,\n\u001b[0;32m   (...)\u001b[0m\n\u001b[1;32m    265\u001b[0m     error_value: \u001b[38;5;28mdict\u001b[39m[\u001b[38;5;28mstr\u001b[39m, Any],\n\u001b[1;32m    266\u001b[0m ) \u001b[38;5;241m-\u001b[39m\u001b[38;5;241m>\u001b[39m \u001b[38;5;28;01mNone\u001b[39;00m:\n\u001b[1;32m    267\u001b[0m \u001b[38;5;250m    \u001b[39m\u001b[38;5;124;03m\"\"\"Error handler wrapper that calls the errorhandler method.\u001b[39;00m\n\u001b[1;32m    268\u001b[0m \n\u001b[1;32m    269\u001b[0m \u001b[38;5;124;03m    Args:\u001b[39;00m\n\u001b[0;32m   (...)\u001b[0m\n\u001b[1;32m    280\u001b[0m \u001b[38;5;124;03m        exception to the first handler in that order.\u001b[39;00m\n\u001b[1;32m    281\u001b[0m \u001b[38;5;124;03m    \"\"\"\u001b[39;00m\n\u001b[0;32m--> 283\u001b[0m     handed_over \u001b[38;5;241m=\u001b[39m Error\u001b[38;5;241m.\u001b[39mhand_to_other_handler(\n\u001b[1;32m    284\u001b[0m         connection,\n\u001b[1;32m    285\u001b[0m         cursor,\n\u001b[1;32m    286\u001b[0m         error_class,\n\u001b[1;32m    287\u001b[0m         error_value,\n\u001b[1;32m    288\u001b[0m     )\n\u001b[1;32m    289\u001b[0m     \u001b[38;5;28;01mif\u001b[39;00m \u001b[38;5;129;01mnot\u001b[39;00m handed_over:\n\u001b[1;32m    290\u001b[0m         \u001b[38;5;28;01mraise\u001b[39;00m Error\u001b[38;5;241m.\u001b[39merrorhandler_make_exception(\n\u001b[1;32m    291\u001b[0m             error_class,\n\u001b[1;32m    292\u001b[0m             error_value,\n\u001b[1;32m    293\u001b[0m         )\n",
      "File \u001b[0;32m/opt/anaconda3/lib/python3.12/site-packages/snowflake/connector/errors.py:338\u001b[0m, in \u001b[0;36mError.hand_to_other_handler\u001b[0;34m(connection, cursor, error_class, error_value)\u001b[0m\n\u001b[1;32m    336\u001b[0m \u001b[38;5;28;01mif\u001b[39;00m cursor \u001b[38;5;129;01mis\u001b[39;00m \u001b[38;5;129;01mnot\u001b[39;00m \u001b[38;5;28;01mNone\u001b[39;00m:\n\u001b[1;32m    337\u001b[0m     cursor\u001b[38;5;241m.\u001b[39mmessages\u001b[38;5;241m.\u001b[39mappend((error_class, error_value))\n\u001b[0;32m--> 338\u001b[0m     cursor\u001b[38;5;241m.\u001b[39merrorhandler(connection, cursor, error_class, error_value)\n\u001b[1;32m    339\u001b[0m     \u001b[38;5;28;01mreturn\u001b[39;00m \u001b[38;5;28;01mTrue\u001b[39;00m\n\u001b[1;32m    340\u001b[0m \u001b[38;5;28;01melif\u001b[39;00m connection \u001b[38;5;129;01mis\u001b[39;00m \u001b[38;5;129;01mnot\u001b[39;00m \u001b[38;5;28;01mNone\u001b[39;00m:\n",
      "File \u001b[0;32m/opt/anaconda3/lib/python3.12/site-packages/snowflake/connector/errors.py:214\u001b[0m, in \u001b[0;36mError.default_errorhandler\u001b[0;34m(connection, cursor, error_class, error_value)\u001b[0m\n\u001b[1;32m    212\u001b[0m errno \u001b[38;5;241m=\u001b[39m error_value\u001b[38;5;241m.\u001b[39mget(\u001b[38;5;124m\"\u001b[39m\u001b[38;5;124merrno\u001b[39m\u001b[38;5;124m\"\u001b[39m)\n\u001b[1;32m    213\u001b[0m done_format_msg \u001b[38;5;241m=\u001b[39m error_value\u001b[38;5;241m.\u001b[39mget(\u001b[38;5;124m\"\u001b[39m\u001b[38;5;124mdone_format_msg\u001b[39m\u001b[38;5;124m\"\u001b[39m)\n\u001b[0;32m--> 214\u001b[0m \u001b[38;5;28;01mraise\u001b[39;00m error_class(\n\u001b[1;32m    215\u001b[0m     msg\u001b[38;5;241m=\u001b[39merror_value\u001b[38;5;241m.\u001b[39mget(\u001b[38;5;124m\"\u001b[39m\u001b[38;5;124mmsg\u001b[39m\u001b[38;5;124m\"\u001b[39m),\n\u001b[1;32m    216\u001b[0m     errno\u001b[38;5;241m=\u001b[39m\u001b[38;5;28;01mNone\u001b[39;00m \u001b[38;5;28;01mif\u001b[39;00m errno \u001b[38;5;129;01mis\u001b[39;00m \u001b[38;5;28;01mNone\u001b[39;00m \u001b[38;5;28;01melse\u001b[39;00m \u001b[38;5;28mint\u001b[39m(errno),\n\u001b[1;32m    217\u001b[0m     sqlstate\u001b[38;5;241m=\u001b[39merror_value\u001b[38;5;241m.\u001b[39mget(\u001b[38;5;124m\"\u001b[39m\u001b[38;5;124msqlstate\u001b[39m\u001b[38;5;124m\"\u001b[39m),\n\u001b[1;32m    218\u001b[0m     sfqid\u001b[38;5;241m=\u001b[39merror_value\u001b[38;5;241m.\u001b[39mget(\u001b[38;5;124m\"\u001b[39m\u001b[38;5;124msfqid\u001b[39m\u001b[38;5;124m\"\u001b[39m),\n\u001b[1;32m    219\u001b[0m     query\u001b[38;5;241m=\u001b[39merror_value\u001b[38;5;241m.\u001b[39mget(\u001b[38;5;124m\"\u001b[39m\u001b[38;5;124mquery\u001b[39m\u001b[38;5;124m\"\u001b[39m),\n\u001b[1;32m    220\u001b[0m     done_format_msg\u001b[38;5;241m=\u001b[39m(\n\u001b[1;32m    221\u001b[0m         \u001b[38;5;28;01mNone\u001b[39;00m \u001b[38;5;28;01mif\u001b[39;00m done_format_msg \u001b[38;5;129;01mis\u001b[39;00m \u001b[38;5;28;01mNone\u001b[39;00m \u001b[38;5;28;01melse\u001b[39;00m \u001b[38;5;28mbool\u001b[39m(done_format_msg)\n\u001b[1;32m    222\u001b[0m     ),\n\u001b[1;32m    223\u001b[0m     connection\u001b[38;5;241m=\u001b[39mconnection,\n\u001b[1;32m    224\u001b[0m     cursor\u001b[38;5;241m=\u001b[39mcursor,\n\u001b[1;32m    225\u001b[0m )\n",
      "\u001b[0;31mProgrammingError\u001b[0m: 100351 (P0000): Request failed for external function COMPLETE$V2 with remote service error: 400 '\"max tokens of 220000 exceeded\"\n'; requests batch-id: 01bab2de-0004-ab89-0003-d563001aa98e:1:1:0:0; request batch size: 1 rows; request retries: 0; response time (last retry): 2m40.11921s"
     ]
    }
   ],
   "source": [
    "import json\n",
    "\n",
    "# Construct the prompt\n",
    "prompt = (\n",
    "    \"You will be provided with an image in base64 format which is related to an event. \"\n",
    "    \"Describe the image concisely, focusing only on event-specific details. \"\n",
    "    \"If the image includes information such as the event name, timing, date, or price, \"\n",
    "    \"extract and provide those details as well. \"\n",
    "    f\"Base64 Image: {base64_image}\"\n",
    ")\n",
    "\n",
    "# Convert input to JSON format\n",
    "query = \"\"\"\n",
    "SELECT SNOWFLAKE.CORTEX.COMPLETE('jamba-1.5-large', PARSE_JSON(%s))\n",
    "\"\"\"\n",
    "\n",
    "cursor.execute(query, (json.dumps({\"prompt\": prompt}),))\n"
   ]
  },
  {
   "cell_type": "code",
   "execution_count": null,
   "id": "e76fbad6-5e21-4be0-85c2-b25a5385f610",
   "metadata": {},
   "outputs": [],
   "source": []
  },
  {
   "cell_type": "code",
   "execution_count": 89,
   "id": "ab06f25f-907e-414c-88b3-9ed6cff9b2f9",
   "metadata": {},
   "outputs": [],
   "source": [
    "prompt1 = (\n",
    "    \"You will be provided with an image in base64 format which is related to an event. \"\n",
    "    \"Describe the image concisely, focusing only on event-specific details. \"\n",
    "    \"If the image includes information such as the event name, timing, date, or price, \"\n",
    "    \"extract and provide those details as well. \"\n",
    "    f\"Base64 Image: {base64_image}\"\n",
    ")"
   ]
  },
  {
   "cell_type": "code",
   "execution_count": null,
   "id": "08ad670d-c96e-4c8a-96d1-ab424c87e572",
   "metadata": {},
   "outputs": [],
   "source": []
  },
  {
   "cell_type": "code",
   "execution_count": 85,
   "id": "2eeef7c3-7e88-43ba-9438-806f2c201844",
   "metadata": {},
   "outputs": [
    {
     "data": {
      "text/plain": [
       "'You will be provided with an image url which is related to an event. Describe the image concisely, focusing only on event-specific details. If the image includes information such as the event name, timing, date, or price, extract and provide those details as well. Image URL: https://media.thebostoncalendar.com/images/q_auto,fl_lossy/v1738974124/duz2jd9y4kr285bdamux/v-for-vault-an-electronic-dance-music-valentines.png'"
      ]
     },
     "execution_count": 85,
     "metadata": {},
     "output_type": "execute_result"
    }
   ],
   "source": [
    "prompt"
   ]
  },
  {
   "cell_type": "code",
   "execution_count": 93,
   "id": "0af0a3a7-1b02-48ba-98d2-0be936e298cd",
   "metadata": {},
   "outputs": [],
   "source": [
    "import tiktoken\n",
    "\n",
    "def count_tokens(text, model=\"gpt-4o-mini\"):\n",
    "    \"\"\"Counts the number of tokens in the text using OpenAI-compatible tokenizer.\"\"\"\n",
    "    enc = tiktoken.encoding_for_model(model) \n",
    "    return len(enc.encode(text))\n"
   ]
  },
  {
   "cell_type": "code",
   "execution_count": 95,
   "id": "f1f4ebcb-c334-4408-bb73-036cbbbab473",
   "metadata": {},
   "outputs": [
    {
     "name": "stdout",
     "output_type": "stream",
     "text": [
      "Number of tokens in the prompt: 1312280\n"
     ]
    }
   ],
   "source": [
    "prompt_text = (\n",
    "    \"You will be provided with an image in base64 format which is related to an event. \"\n",
    "    \"Describe the image concisely, focusing only on event-specific details. \"\n",
    "    \"If the image includes information such as the event name, timing, date, or price, \"\n",
    "    \"extract and provide those details as well. \"\n",
    "    f\"Base64 Image: {base64_image}\"\n",
    ")\n",
    "\n",
    "num_tokens = count_tokens(prompt_text)\n",
    "print(f\"Number of tokens in the prompt: {num_tokens}\")"
   ]
  },
  {
   "cell_type": "code",
   "execution_count": 91,
   "id": "0f36c389-d5ca-422d-8af5-91f4487a6690",
   "metadata": {},
   "outputs": [
    {
     "name": "stdout",
     "output_type": "stream",
     "text": [
      "Estimated number of tokens: 37\n"
     ]
    }
   ],
   "source": [
    "def estimate_tokens(text):\n",
    "    \"\"\"Roughly estimate tokens based on word count (1.3 words ≈ 1 token).\"\"\"\n",
    "    words = text.split()\n",
    "    return int(len(words) / 1.3)\n",
    "\n",
    "num_tokens = estimate_tokens(prompt1)\n",
    "print(f\"Estimated number of tokens: {num_tokens}\")\n"
   ]
  },
  {
   "cell_type": "code",
   "execution_count": null,
   "id": "dc73e4b7-424b-44a6-9073-da47535ea394",
   "metadata": {},
   "outputs": [],
   "source": []
  },
  {
   "cell_type": "code",
   "execution_count": null,
   "id": "4d4a2a5b-52b7-4c62-b856-85648417b28e",
   "metadata": {},
   "outputs": [],
   "source": []
  },
  {
   "cell_type": "code",
   "execution_count": null,
   "id": "3ec862c3-377c-4989-a31c-bbf7011f4c4f",
   "metadata": {},
   "outputs": [],
   "source": [
    "from PIL import Image\n",
    "from io import BytesIO\n",
    "import base64\n",
    "\n",
    "def compress_and_encode_image(image_path, quality=50):\n",
    "    with Image.open(image_path) as img:\n",
    "        img = img.convert(\"RGB\")\n",
    "        buffer = BytesIO()\n",
    "        img.save(buffer, format=\"JPEG\", quality=quality) \n",
    "        return base64.b64encode(buffer.getvalue()).decode(\"utf-8\")\n",
    "\n",
    "base64_image = compress_and_encode_image(\"your_image.jpg\")\n"
   ]
  },
  {
   "cell_type": "code",
   "execution_count": null,
   "id": "d90f3ebf-df69-4d1e-8ff4-00d6fef08568",
   "metadata": {},
   "outputs": [],
   "source": []
  },
  {
   "cell_type": "code",
   "execution_count": 51,
   "id": "a6ad59f7-3cd0-4e3e-b2ab-fcf7562d3bf9",
   "metadata": {},
   "outputs": [
    {
     "data": {
      "text/plain": [
       "'https://media.thebostoncalendar.com/images/q_auto,fl_lossy/v1738974124/duz2jd9y4kr285bdamux/v-for-vault-an-electronic-dance-music-valentines.png'"
      ]
     },
     "execution_count": 51,
     "metadata": {},
     "output_type": "execute_result"
    }
   ],
   "source": [
    "image_url"
   ]
  },
  {
   "cell_type": "code",
   "execution_count": null,
   "id": "3701116b-77f8-4d70-b24b-3f87c804fc2c",
   "metadata": {},
   "outputs": [],
   "source": [
    "##JAMBA"
   ]
  },
  {
   "cell_type": "code",
   "execution_count": null,
   "id": "3fc1cfd7-d586-4aca-8fdf-b0621836a0c0",
   "metadata": {},
   "outputs": [],
   "source": [
    "import json\n",
    "\n",
    "# Construct the prompt\n",
    "prompt = (\n",
    "    \"You will be provided with an image url which is related to an event. \"\n",
    "    \"Describe the image concisely, focusing only on event-specific details. \"\n",
    "    \"If the image includes information such as the event name, timing, date, or price, \"\n",
    "    \"extract and provide those details as well. \"\n",
    "    f\"Image URL: {image_url}\"\n",
    ")\n",
    "\n",
    "# Convert input to JSON format\n",
    "query = \"\"\"\n",
    "SELECT SNOWFLAKE.CORTEX.COMPLETE('jamba-1.5-large', PARSE_JSON(%s))\n",
    "\"\"\"\n",
    "\n",
    "# Execute query safely with parameters\n",
    "cursor.execute(query, (json.dumps({\"prompt\": prompt}),))\n"
   ]
  },
  {
   "cell_type": "code",
   "execution_count": 58,
   "id": "02312816-a05d-400e-b382-e4f79620b1d6",
   "metadata": {},
   "outputs": [
    {
     "data": {
      "text/plain": [
       "(\" V-for-Vault: An Electronic Dance Music Valentine's event on February 10, 2024, from 10:00 PM to 2:00 AM at The Grand, Boston. Tickets priced at $15.\",)"
      ]
     },
     "execution_count": 58,
     "metadata": {},
     "output_type": "execute_result"
    }
   ],
   "source": [
    "cursor.fetchone()"
   ]
  },
  {
   "cell_type": "code",
   "execution_count": null,
   "id": "a2ead492-91cb-4799-919d-70d4a52bdd4c",
   "metadata": {},
   "outputs": [],
   "source": []
  },
  {
   "cell_type": "code",
   "execution_count": null,
   "id": "9c9c3bc2-c07c-483c-bbed-eab8ba3fda48",
   "metadata": {},
   "outputs": [],
   "source": [
    "##REKA-FLASH"
   ]
  },
  {
   "cell_type": "code",
   "execution_count": 60,
   "id": "8564982f-d3de-4786-af13-4c4daf8d8f3f",
   "metadata": {},
   "outputs": [
    {
     "data": {
      "text/plain": [
       "<snowflake.connector.cursor.SnowflakeCursor at 0x179747d70>"
      ]
     },
     "execution_count": 60,
     "metadata": {},
     "output_type": "execute_result"
    }
   ],
   "source": [
    "# Convert input to JSON format\n",
    "query = \"\"\"\n",
    "SELECT SNOWFLAKE.CORTEX.COMPLETE('reka-flash', PARSE_JSON(%s))\n",
    "\"\"\"\n",
    "\n",
    "# Execute query safely with parameters\n",
    "cursor.execute(query, (json.dumps({\"prompt\": prompt}),))\n",
    "cursor.fetchone()\n"
   ]
  },
  {
   "cell_type": "code",
   "execution_count": 62,
   "id": "d28d9fee-3f12-434e-b356-46c028cc25d5",
   "metadata": {},
   "outputs": [
    {
     "data": {
      "text/plain": [
       "(\" **Event: V for Vault - an Electronic Dance Music Valentine's party**\\n**Visual Elements:**\\n- The image features a dark, edgy aesthetic with neon accents.\\n- Central imagery includes a stylized 'V' and heart symbols, suggestive of Valentine's Day.\\n- Text overlays indicate the event type ('Electronic Dance Music') and the thematic focus ('Valentines').\\n- No specific date, time, or price is visible in the image.\\n\\n \",)"
      ]
     },
     "execution_count": 62,
     "metadata": {},
     "output_type": "execute_result"
    }
   ],
   "source": []
  },
  {
   "cell_type": "code",
   "execution_count": null,
   "id": "696262c9-294e-462d-bb4c-8624230d8ab0",
   "metadata": {},
   "outputs": [],
   "source": []
  },
  {
   "cell_type": "code",
   "execution_count": null,
   "id": "cb0df8be-3913-46a3-bf5a-e3426359c233",
   "metadata": {},
   "outputs": [],
   "source": [
    "##MISTRAL"
   ]
  },
  {
   "cell_type": "code",
   "execution_count": 66,
   "id": "f417a102-2187-4d45-baa4-baaeadae3a64",
   "metadata": {},
   "outputs": [
    {
     "data": {
      "text/plain": [
       "(' The image is a promotional poster for an event titled \"V for Vault: An Electronic Dance Music Valentine\\'s.\" The event features a DJ lineup including DJs like DJ Pup Dawg, DJ B3t$y, and DJ D-Lux. The event is scheduled for February 10, 2024, from 9 PM to 2 AM. The location is not specified in the image.',)"
      ]
     },
     "execution_count": 66,
     "metadata": {},
     "output_type": "execute_result"
    }
   ],
   "source": [
    "# Convert input to JSON format\n",
    "query = \"\"\"\n",
    "SELECT SNOWFLAKE.CORTEX.COMPLETE('mistral-large2', PARSE_JSON(%s))\n",
    "\"\"\"\n",
    "\n",
    "# Execute query safely with parameters\n",
    "cursor.execute(query, (json.dumps({\"prompt\": prompt}),))\n",
    "cursor.fetchone()"
   ]
  },
  {
   "cell_type": "code",
   "execution_count": null,
   "id": "9848d67b-13f7-491a-a89e-d59bd4ae5e21",
   "metadata": {},
   "outputs": [],
   "source": [
    "##LLAMA"
   ]
  },
  {
   "cell_type": "code",
   "execution_count": 68,
   "id": "096e4419-9135-4d05-bbf7-e13285d12238",
   "metadata": {},
   "outputs": [
    {
     "data": {
      "text/plain": [
       "('The image is a promotional poster for an event called \"V for Vault: An Electronic Dance Music Valentine\\'s\". The event appears to be a music festival or party, likely taking place on Valentine\\'s Day. The background of the image is a dark purple color with a subtle pattern of hearts and circuit boards. The main attraction, \"V for Vault\", is prominently displayed in bold, neon-lit letters. The image also includes a tagline \"Get ready to fall in love with the music\" and a date \"February 14th\".',)"
      ]
     },
     "execution_count": 68,
     "metadata": {},
     "output_type": "execute_result"
    }
   ],
   "source": [
    "# Convert input to JSON format\n",
    "query = \"\"\"\n",
    "SELECT SNOWFLAKE.CORTEX.COMPLETE('llama3-8b', PARSE_JSON(%s))\n",
    "\"\"\"\n",
    "\n",
    "# Execute query safely with parameters\n",
    "cursor.execute(query, (json.dumps({\"prompt\": prompt}),))\n",
    "cursor.fetchone()"
   ]
  },
  {
   "cell_type": "code",
   "execution_count": null,
   "id": "36d8f588-9e5f-497b-bf06-2cbbfdc6f027",
   "metadata": {},
   "outputs": [],
   "source": [
    "##MIXTRAL"
   ]
  },
  {
   "cell_type": "code",
   "execution_count": 70,
   "id": "3036cae1-06c8-4aca-b13b-fe68fb3a0ad3",
   "metadata": {},
   "outputs": [
    {
     "data": {
      "text/plain": [
       "(' The image is an advertisement for an electronic dance music (EDM) event called \"V for Vault: An Electronic Dance Music Valentine\\'s.\" The event is taking place on Valentine\\'s Day, which is on a Tuesday in February. The exact date is not provided, but based on the name of the event, it is likely to be on February 14th. The image features a stylized heart with a \"V\" in the center, and the text \"V for Vault\" is written in a bold, futuristic font. The background of the image is a dark, metallic color, giving it a modern and high-tech feel. There is no information about the price or location of the event in the image.',)"
      ]
     },
     "execution_count": 70,
     "metadata": {},
     "output_type": "execute_result"
    }
   ],
   "source": [
    "# Convert input to JSON format\n",
    "query = \"\"\"\n",
    "SELECT SNOWFLAKE.CORTEX.COMPLETE('mixtral-8x7b', PARSE_JSON(%s))\n",
    "\"\"\"\n",
    "\n",
    "# Execute query safely with parameters\n",
    "cursor.execute(query, (json.dumps({\"prompt\": prompt}),))\n",
    "cursor.fetchone()"
   ]
  },
  {
   "cell_type": "code",
   "execution_count": null,
   "id": "69d07057-08b1-4c1b-a8a9-51ea91e18934",
   "metadata": {},
   "outputs": [],
   "source": []
  },
  {
   "cell_type": "code",
   "execution_count": null,
   "id": "ac8b05b6-d8f3-4248-b032-50f161a3382a",
   "metadata": {},
   "outputs": [],
   "source": [
    "##llama3.3-70b"
   ]
  },
  {
   "cell_type": "code",
   "execution_count": 72,
   "id": "de042595-b0b6-44d4-9847-8f12107053cc",
   "metadata": {},
   "outputs": [
    {
     "data": {
      "text/plain": [
       "('The image appears to be a promotional poster for an electronic dance music (EDM) event called \"V for Vault\" on Valentine\\'s Day. The event details extracted from the image are:\\n\\n* Event name: V for Vault\\n* Theme: Electronic Dance Music (EDM) on Valentine\\'s Day\\n* Date: Valentine\\'s Day (no specific year mentioned)\\n\\nNo timing or price information is visible in the image.',)"
      ]
     },
     "execution_count": 72,
     "metadata": {},
     "output_type": "execute_result"
    }
   ],
   "source": [
    "# Convert input to JSON format\n",
    "query = \"\"\"\n",
    "SELECT SNOWFLAKE.CORTEX.COMPLETE('llama3.3-70b', PARSE_JSON(%s))\n",
    "\"\"\"\n",
    "# Execute query safely with parameters\n",
    "cursor.execute(query, (json.dumps({\"prompt\": prompt}),))\n",
    "cursor.fetchone()"
   ]
  },
  {
   "cell_type": "code",
   "execution_count": null,
   "id": "c760b62a-17cd-4ac2-8142-48fb59694186",
   "metadata": {},
   "outputs": [],
   "source": []
  },
  {
   "cell_type": "code",
   "execution_count": null,
   "id": "1fb767c1-2826-4615-9d82-60d1e59d1334",
   "metadata": {},
   "outputs": [],
   "source": []
  },
  {
   "cell_type": "code",
   "execution_count": null,
   "id": "ce4e810d-8568-4375-917c-4105855f6c0c",
   "metadata": {},
   "outputs": [],
   "source": []
  },
  {
   "cell_type": "code",
   "execution_count": 74,
   "id": "fee605f6-c7e3-41a0-8ec8-a417e6b9d6ed",
   "metadata": {},
   "outputs": [
    {
     "data": {
      "text/plain": [
       "(\"## Image Description\\n\\nThe image is for an electronic dance music (EDM) Valentine's event at a club in Boston. The main focus of the image is the energetic crowd dancing on the floor. The atmosphere is vibrant and festive, with glow sticks and colorful lights.\\n\\n**Event-specific details:**\\n\\n* **Event name:** V for Vault - An Electronic Dance Music Valentine's\\n* **Timing:** Unknown (not included in the text)\\n* **Date:** Unknown (not included in the text)\\n* **Price:** Unknown (not included in the text)\",)"
      ]
     },
     "execution_count": 74,
     "metadata": {},
     "output_type": "execute_result"
    }
   ],
   "source": [
    "# Convert input to JSON format\n",
    "query = \"\"\"\n",
    "SELECT SNOWFLAKE.CORTEX.COMPLETE('gemma-7b', PARSE_JSON(%s))\n",
    "\"\"\"\n",
    "# Execute query safely with parameters\n",
    "cursor.execute(query, (json.dumps({\"prompt\": prompt}),))\n",
    "cursor.fetchone()"
   ]
  },
  {
   "cell_type": "code",
   "execution_count": null,
   "id": "97f2133c-ec48-4d02-af73-58c6882f7cc2",
   "metadata": {},
   "outputs": [],
   "source": []
  },
  {
   "cell_type": "code",
   "execution_count": null,
   "id": "4f1a0de8-5096-4a09-8720-01329dd1ccae",
   "metadata": {},
   "outputs": [],
   "source": [
    "##OpenAI"
   ]
  },
  {
   "cell_type": "code",
   "execution_count": 79,
   "id": "172e1d8c-1aaa-4ec0-9375-65a036330b14",
   "metadata": {},
   "outputs": [],
   "source": [
    "from openai import OpenAI"
   ]
  },
  {
   "cell_type": "code",
   "execution_count": null,
   "id": "5839c638-ab5d-465e-9b99-9cab97e419d4",
   "metadata": {},
   "outputs": [],
   "source": []
  },
  {
   "cell_type": "code",
   "execution_count": 81,
   "id": "c6b239a9-14e2-43dc-9f36-e49d1f331c32",
   "metadata": {},
   "outputs": [],
   "source": [
    "client = OpenAI(api_key='')\n",
    "response = client.chat.completions.create(\n",
    "    model=\"gpt-4o-mini\",\n",
    "    messages=[\n",
    "        {\n",
    "            \"role\": \"user\",\n",
    "            \"content\": [\n",
    "                {\n",
    "                    \"type\": \"text\",\n",
    "                    \"text\": \"You will be provided with an image related to an event. Describe the image concisely, focusing only on event-specific details. If the image includes information such as the event name, timing, date, or price, extract and provide those details. Exclude any unrelated observations or interpretations.\",\n",
    "                },\n",
    "                {\n",
    "                    \"type\": \"image_url\",\n",
    "                    \"image_url\": {\"url\": f\"data:image/jpeg;base64,{base64_image}\"},\n",
    "                },\n",
    "            ],\n",
    "        }\n",
    "    ],\n",
    ")"
   ]
  },
  {
   "cell_type": "code",
   "execution_count": 83,
   "id": "f5e80d11-9d3e-48d0-9e7e-b7995882d8e2",
   "metadata": {},
   "outputs": [
    {
     "data": {
      "text/plain": [
       "'**Event Details:**\\n\\n- **Event Name:** V FOR VAULT\\n- **Date:** February 14, 2025\\n- **Time:** 7 PM - 1 AM\\n- **Location:** The Neal Rantoul Vault Theater\\n- **Music By:** Mary AK, D Torrance, Mr. Eyeslee, Dinoblunt 3D Mung Bandit\\n- **Age Restriction:** 21+\\n- **Ticket Prices:** \\n  - $10 Early Bird\\n  - $12 General\\n  - $15 Door'"
      ]
     },
     "execution_count": 83,
     "metadata": {},
     "output_type": "execute_result"
    }
   ],
   "source": [
    "response.choices[0].message.content"
   ]
  },
  {
   "cell_type": "code",
   "execution_count": 101,
   "id": "24a950e4-63c0-429e-92a0-5ce2fb5ab59b",
   "metadata": {},
   "outputs": [],
   "source": [
    "client = OpenAI(api_key='')\n",
    "\n",
    "response = client.chat.completions.create(\n",
    "    model=\"gpt-4o-mini\",\n",
    "    messages=[\n",
    "        {\n",
    "            \"role\": \"user\",\n",
    "            \"content\": [\n",
    "                {\n",
    "                    \"type\": \"text\",\n",
    "                    \"text\": \"You will be provided with an image related to an event. Describe the image concisely, focusing only on event-specific details. If the image includes information such as the event name, timing, date, or price, extract and provide those details. Exclude any unrelated observations or interpretations.\",\n",
    "                },\n",
    "                {\n",
    "                    \"type\": \"image_url\",\n",
    "                    \"image_url\": {\"url\": \"https://media.thebostoncalendar.com/images/q_auto,fl_lossy/v1738974028/qoh1j0ettai2gexekxyx/artz-underground-presents-for-the-love-of-rnb.jpg\"},\n",
    "                },\n",
    "            ],\n",
    "        }\n",
    "    ],\n",
    ")\n"
   ]
  },
  {
   "cell_type": "code",
   "execution_count": 103,
   "id": "3d0d398d-b5c6-456c-8216-fe1bfad51446",
   "metadata": {},
   "outputs": [
    {
     "data": {
      "text/plain": [
       "'**Event Details:**\\n\\n- **Event Name:** For the Love of RNB\\n- **Performers:** Dreion, Ashanti Eva Davenport, Bia Javier, and more\\n- **Date:** February 15th\\n- **Time:** 7 PM\\n- **Price:** $20 online / $25 at the door\\n- **Location:** Neal Rantoul Vault Theatre (Lynn Arts), 25 Exchange St., Lynn, MA 01901'"
      ]
     },
     "execution_count": 103,
     "metadata": {},
     "output_type": "execute_result"
    }
   ],
   "source": [
    "response.choices[0].message.content"
   ]
  },
  {
   "cell_type": "code",
   "execution_count": null,
   "id": "53e0204a-adfb-453d-9b24-8245c38f65dc",
   "metadata": {},
   "outputs": [],
   "source": []
  },
  {
   "cell_type": "code",
   "execution_count": null,
   "id": "e976acfa-da40-4877-8824-f1163c6349ae",
   "metadata": {},
   "outputs": [],
   "source": []
  },
  {
   "cell_type": "code",
   "execution_count": null,
   "id": "71c89343-5044-4388-bb93-3651d6eee1ac",
   "metadata": {},
   "outputs": [],
   "source": []
  }
 ],
 "metadata": {
  "kernelspec": {
   "display_name": "Python 3 (ipykernel)",
   "language": "python",
   "name": "python3"
  },
  "language_info": {
   "codemirror_mode": {
    "name": "ipython",
    "version": 3
   },
   "file_extension": ".py",
   "mimetype": "text/x-python",
   "name": "python",
   "nbconvert_exporter": "python",
   "pygments_lexer": "ipython3",
   "version": "3.12.4"
  }
 },
 "nbformat": 4,
 "nbformat_minor": 5
}
