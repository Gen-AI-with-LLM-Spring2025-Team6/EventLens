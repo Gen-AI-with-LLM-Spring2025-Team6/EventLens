{
 "cells": [
  {
   "cell_type": "code",
   "execution_count": 25,
   "id": "e761512c-4f86-493d-86ea-b295046b1e26",
   "metadata": {},
   "outputs": [],
   "source": [
    "import snowflake.connector\n",
    "import requests\n",
    "import openai\n",
    "import base64\n",
    "from openai import OpenAI"
   ]
  },
  {
   "cell_type": "code",
   "execution_count": null,
   "id": "10a5b339-93d7-4465-9b6e-bba06cc52fc0",
   "metadata": {},
   "outputs": [],
   "source": []
  },
  {
   "cell_type": "code",
   "execution_count": null,
   "id": "9f04a1fe-2811-4cee-926f-ea793462c719",
   "metadata": {},
   "outputs": [],
   "source": []
  },
  {
   "cell_type": "code",
   "execution_count": 6,
   "id": "42cb4767-b3d8-44e7-82fb-310dd923bb51",
   "metadata": {},
   "outputs": [],
   "source": [
    "# Snowflake credentials\n",
    "SNOWFLAKE_ACCOUNT=''\n",
    "SNOWFLAKE_USER=''\n",
    "SNOWFLAKE_PASSWORD=''\n",
    "SNOWFLAKE_DATABASE=''\n",
    "SNOWFLAKE_SCHEMA=''\n",
    "SNOWFLAKE_WAREHOUSE=''\n",
    "SNOWFLAKE_ROLE=''\n",
    "SNOWFLAKE_TABLE = \"\""
   ]
  },
  {
   "cell_type": "code",
   "execution_count": null,
   "id": "474b362b-263c-4c7c-8200-2c6de9d2c8ef",
   "metadata": {},
   "outputs": [],
   "source": []
  },
  {
   "cell_type": "code",
   "execution_count": 8,
   "id": "a0aeee91-abc8-4182-9bf6-601e776ebad0",
   "metadata": {},
   "outputs": [],
   "source": [
    "# Connect to Snowflake\n",
    "conn = snowflake.connector.connect(\n",
    "    user=SNOWFLAKE_USER,\n",
    "    password=SNOWFLAKE_PASSWORD,\n",
    "    account=SNOWFLAKE_ACCOUNT,\n",
    "    warehouse=SNOWFLAKE_WAREHOUSE,\n",
    "    database=SNOWFLAKE_DATABASE,\n",
    "    schema=SNOWFLAKE_SCHEMA\n",
    ")\n",
    "\n",
    "# Fetch records from the table\n",
    "cursor = conn.cursor()\n",
    "cursor.execute(f\"SELECT TITLE, DESCRIPTION, FULL_ADDRESS, EVENT_DATES, IMAGE_URL FROM {SNOWFLAKE_TABLE}\")\n",
    "records = cursor.fetchall()"
   ]
  },
  {
   "cell_type": "code",
   "execution_count": 31,
   "id": "03faa190-17db-4612-891e-6378d640d0fb",
   "metadata": {},
   "outputs": [],
   "source": [
    "def get_image_description(image_url):\n",
    "    \"\"\"Download image and get a textual description using OpenAI Vision model\"\"\"\n",
    "    response = requests.get(image_url)\n",
    "    if response.status_code == 200:\n",
    "        base64_image = base64.b64encode(response.content).decode('utf-8')\n",
    "        \n",
    "        # OpenAI API Call\n",
    "        client = OpenAI(api_key='')\n",
    "        response = client.chat.completions.create(\n",
    "        model=\"gpt-4o-mini\",\n",
    "        messages=[\n",
    "            {\n",
    "                \"role\": \"user\",\n",
    "                \"content\": [\n",
    "                    {\n",
    "                        \"type\": \"text\",\n",
    "                        \"text\": \"You will be provided with an image related to an event. Describe the image concisely, focusing only on event-specific details. If the image includes information such as the event name, timing, date, or price, extract and provide those details. Exclude any unrelated observations or interpretations.\",\n",
    "                    },\n",
    "                    {\n",
    "                        \"type\": \"image_url\",\n",
    "                        \"image_url\": {\"url\": f\"data:image/jpeg;base64,{base64_image}\"},\n",
    "                    },\n",
    "                ],\n",
    "            }\n",
    "        ],\n",
    "    )\n",
    "\n",
    "\n",
    "        return response.choices[0].message.content\n",
    "    else:\n",
    "        return \"Image not available or failed to load.\""
   ]
  },
  {
   "cell_type": "code",
   "execution_count": null,
   "id": "004cc775-2b7d-47c2-aae8-9324ec57a92b",
   "metadata": {},
   "outputs": [],
   "source": []
  },
  {
   "cell_type": "code",
   "execution_count": null,
   "id": "e08bfced-9f86-4f4d-839d-c6b952b87273",
   "metadata": {},
   "outputs": [],
   "source": []
  },
  {
   "cell_type": "markdown",
   "id": "ea4d0799-34ec-452d-a5e7-f581f0647e58",
   "metadata": {},
   "source": [
    "### Classify events"
   ]
  },
  {
   "cell_type": "code",
   "execution_count": 35,
   "id": "33b31cc1-c0ef-4e16-9c23-e5906b8da7cf",
   "metadata": {},
   "outputs": [],
   "source": [
    "def classify_event(title, description, address, dates, image_description):\n",
    "    \"\"\"Send event details to OpenAI for classification into predefined categories\"\"\"\n",
    "\n",
    "    categories = [\n",
    "        \"Concert\", \"Sports\", \"Festival\", \"Exhibition\", \"Theater\", \"Comedy Show\", \n",
    "        \"Food & Drink\", \"Networking\", \"Educational\", \"Family-Friendly\", \"Tech Conference\", \"Other\"\n",
    "    ]\n",
    "\n",
    "    prompt_message = f\"\"\"\n",
    "    Based on the given event details, classify the event into one or more categories from the following list:\n",
    "    {', '.join(categories)}.\n",
    "\n",
    "    Event Details:\n",
    "    - Title: {title}\n",
    "    - Description: {description}\n",
    "    - Address: {address}\n",
    "    - Event Dates: {dates}\n",
    "    - Image Description: {image_description}\n",
    "\n",
    "    Return only the category names as a list.\n",
    "    \"\"\"\n",
    "    client = OpenAI(api_key='')\n",
    "    response = client.chat.completions.create(\n",
    "        model=\"gpt-4o\",\n",
    "        messages=[\n",
    "            {\"role\": \"system\", \"content\": \"You are an AI that classifies events based on their details.\"},\n",
    "            {\"role\": \"user\", \"content\": prompt_message}\n",
    "        ],\n",
    "        max_tokens=100\n",
    "    )\n",
    "\n",
    "    return response.choices[0].message.content.strip()\n"
   ]
  },
  {
   "cell_type": "code",
   "execution_count": null,
   "id": "835240de-90bd-4cea-93ac-90359fb0a698",
   "metadata": {},
   "outputs": [],
   "source": []
  },
  {
   "cell_type": "code",
   "execution_count": null,
   "id": "d4fd11c1-48f1-4029-90fb-a5f27bac01bb",
   "metadata": {},
   "outputs": [],
   "source": []
  },
  {
   "cell_type": "code",
   "execution_count": 37,
   "id": "a92f5a0c-74b7-42ba-ae4b-d912ee26b62e",
   "metadata": {},
   "outputs": [],
   "source": [
    "# Prepare data for update\n",
    "updated_records = []\n",
    "\n",
    "for record in records:\n",
    "    title, description, address, dates, image_url = record\n",
    "\n",
    "    # Get image description\n",
    "    image_description = get_image_description(image_url)\n",
    "\n",
    "    # Get event category\n",
    "    event_category = classify_event(title, description, address, dates, image_description)\n",
    "\n",
    "    # Append to list\n",
    "    updated_records.append((title, description, address, dates, image_url, image_description, event_category))\n"
   ]
  },
  {
   "cell_type": "code",
   "execution_count": null,
   "id": "6336d038-ad33-49e0-8261-c0997109874f",
   "metadata": {},
   "outputs": [],
   "source": []
  },
  {
   "cell_type": "code",
   "execution_count": null,
   "id": "bcc33eb7-929e-4e3f-9f49-e71e540102fd",
   "metadata": {},
   "outputs": [],
   "source": []
  },
  {
   "cell_type": "code",
   "execution_count": null,
   "id": "109a36f0-6772-41fa-b0a5-24d196de955a",
   "metadata": {},
   "outputs": [],
   "source": []
  },
  {
   "cell_type": "code",
   "execution_count": null,
   "id": "408fbd0b-aaf1-4a68-8292-df8b2eb03265",
   "metadata": {},
   "outputs": [],
   "source": []
  },
  {
   "cell_type": "code",
   "execution_count": 41,
   "id": "6c86cfbf-28fb-4c60-a934-31d20ee53a3e",
   "metadata": {},
   "outputs": [],
   "source": [
    "# Insert new data back into Snowflake \n",
    "cursor.executemany(\n",
    "    f\"\"\"\n",
    "    UPDATE {SNOWFLAKE_TABLE} \n",
    "    SET IMAGE_DESCRIPTION = %s, EVENT_CATEGORY = %s\n",
    "    WHERE TITLE = %s AND DESCRIPTION = %s AND FULL_ADDRESS = %s AND EVENT_DATES = %s AND IMAGE_URL = %s\n",
    "    \"\"\",\n",
    "    [(img_desc, category, title, desc, addr, dates, img_url) for title, desc, addr, dates, img_url, img_desc, category in updated_records]\n",
    ")\n",
    "\n",
    "# Commit and close connection\n",
    "conn.commit()\n",
    "cursor.close()\n",
    "conn.close()"
   ]
  },
  {
   "cell_type": "code",
   "execution_count": null,
   "id": "b57e49c2-ded2-4106-9db7-3e08713580f6",
   "metadata": {},
   "outputs": [],
   "source": []
  },
  {
   "cell_type": "code",
   "execution_count": null,
   "id": "cf113b05-67ba-45b8-a981-0b09a2f36d19",
   "metadata": {},
   "outputs": [],
   "source": []
  }
 ],
 "metadata": {
  "kernelspec": {
   "display_name": "Python 3 (ipykernel)",
   "language": "python",
   "name": "python3"
  },
  "language_info": {
   "codemirror_mode": {
    "name": "ipython",
    "version": 3
   },
   "file_extension": ".py",
   "mimetype": "text/x-python",
   "name": "python",
   "nbconvert_exporter": "python",
   "pygments_lexer": "ipython3",
   "version": "3.12.4"
  }
 },
 "nbformat": 4,
 "nbformat_minor": 5
}
